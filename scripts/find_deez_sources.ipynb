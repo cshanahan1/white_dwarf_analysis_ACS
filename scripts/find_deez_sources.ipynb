{
 "cells": [
  {
   "cell_type": "code",
   "execution_count": 1,
   "metadata": {},
   "outputs": [],
   "source": [
    "%load_ext autoreload\n",
    "%autoreload 2\n",
    "from astropy.io import fits\n",
    "import numpy as np\n",
    "from astropy.convolution import Gaussian2DKernel\n",
    "from astropy.stats import gaussian_fwhm_to_sigma\n",
    "%matplotlib inline\n",
    "import matplotlib.pyplot as plt\n",
    "from photutils import CircularAnnulus, CircularAperture, RectangularAperture, DAOStarFinder, Background2D\n",
    "from photutils import aperture_photometry,  deblend_sources, detect_sources, detect_threshold, source_properties\n",
    "import os \n",
    "from ginga.util import zscale\n",
    "\n",
    "from astropy.wcs import WCS\n",
    "from wfc3_photometry import photometry_tools\n",
    "\n",
    "import cosmics"
   ]
  },
  {
   "cell_type": "code",
   "execution_count": 2,
   "metadata": {},
   "outputs": [],
   "source": [
    "test_dir = '/Users/cshanahan/Desktop/clean_desktop/WD_acs/data/dgq_08/F625W/'\n",
    "test_file = '/Users/cshanahan/Desktop/clean_desktop/WD_acs/data/dgq_08/F625W/jdgq08030_drc.fits'\n",
    "\n",
    "data = fits.open(test_file)[1].data\n",
    "hdr = fits.open(test_file)[1].header\n",
    "ctx = fits.open(test_file)[3].data\n",
    "\n",
    "ndrizim = fits.getval(test_file, 'ndrizim')"
   ]
  },
  {
   "cell_type": "code",
   "execution_count": 3,
   "metadata": {
    "collapsed": true
   },
   "outputs": [],
   "source": [
    "def detect_sources_segm(data, threshold, npixels, kernel_fwhm = 1.8):\n",
    "    \"\"\"Use segmentation map to detect sources in image.\"\"\"\n",
    "\n",
    "    sigma = kernel_fwhm * gaussian_fwhm_to_sigma\n",
    "    kernel = Gaussian2DKernel(sigma, x_size=3, y_size=3)\n",
    "    kernel.normalize()\n",
    "    segm = detect_sources(data, threshold=threshold, npixels=npixels, filter_kernel=kernel)\n",
    "    segm_cat = source_properties(data, segm).to_table()\n",
    "    return(segm, segm_cat, kernel)\n",
    "    "
   ]
  },
  {
   "cell_type": "code",
   "execution_count": 4,
   "metadata": {
    "collapsed": true
   },
   "outputs": [],
   "source": [
    "def filter_bad_sources(ctx_img, xpos, ypos, frac_cover_min, n_exp_total, val = True):\n",
    "\n",
    "    #boolean array indicating if that pixel is covered by ANY image.\n",
    "    coverage_arr = np.nan_to_num(ctx_img).astype(bool).astype(int)\n",
    "    low_coverage_flags = []\n",
    "\n",
    "    for i, xx in enumerate(xpos):\n",
    "        if val == False:\n",
    "            yy = ypos[i]\n",
    "        else:\n",
    "            xx, yy = xx.value, ypos[i].value\n",
    "        ap = RectangularAperture((xx, yy), w=100, h=100)\n",
    "        ap_phot = aperture_photometry(coverage_arr, ap)\n",
    "        summ = ap_phot['aperture_sum'][0]\n",
    "        if summ/ap.area() > frac_cover_min:\n",
    "            low_coverage_flags.append(1)\n",
    "        else:\n",
    "            low_coverage_flags.append(0)\n",
    "\n",
    "    return low_coverage_flags"
   ]
  },
  {
   "cell_type": "code",
   "execution_count": 5,
   "metadata": {
    "collapsed": true
   },
   "outputs": [],
   "source": [
    "def write_source_catalog(source_catalog, output_file_path, wcss):\n",
    "    \"\"\"Writes catalog of output sources as csv for use with ds9.\"\"\"\n",
    "    with open(output_file_path, 'w') as f:\n",
    "        f.write('x, y\\n')\n",
    "        for i, val in enumerate(source_catalog):\n",
    "            ra, dec = wcss.wcs_pix2world(source_catalog['xcentroid'][i].value, source_catalog['ycentroid'][i].value, 1)\n",
    "            fwhmm = source_catalog['fwhm'][i]\n",
    "            f.write(str(ra)+', '+str(dec)+', '+str(fwhmm)+'\\n')"
   ]
  },
  {
   "cell_type": "code",
   "execution_count": 6,
   "metadata": {
    "collapsed": true
   },
   "outputs": [],
   "source": [
    "def add_fwhm_to_photcat(data, photcat):\n",
    "\t\"\"\"Uses wfc3photometry tool to fit a radial profile to every object in\n",
    "\tin the photometry table and adds the FWHM as a column.\"\"\"\n",
    "\n",
    "\tfwhms = []\n",
    "\tfor i, val in enumerate(photcat):\n",
    "\t\tx, y = photcat['xcentroid'][i].value, photcat['ycentroid'][i].value\n",
    "\t\trad_prof = photometry_tools.rad_prof.RadialProfile(x, y, data)\n",
    "\t\tfwhms.append(rad_prof.fwhm)\n",
    "\tphotcat['fwhm'] = fwhms\n",
    "\treturn photcat"
   ]
  },
  {
   "cell_type": "markdown",
   "metadata": {},
   "source": [
    "## Segmentation map"
   ]
  },
  {
   "cell_type": "code",
   "execution_count": 7,
   "metadata": {},
   "outputs": [
    {
     "name": "stderr",
     "output_type": "stream",
     "text": [
      "WARNING: Input data contains invalid values (NaNs or infs), which were automatically masked. [astropy.stats.sigma_clipping]\n",
      "/Users/cshanahan/miniconda3/envs/astroconda36/lib/python3.6/site-packages/astropy/stats/sigma_clipping.py:165: RuntimeWarning: invalid value encountered in greater\n",
      "  _filtered_data.mask |= _filtered_data > max_value\n",
      "/Users/cshanahan/miniconda3/envs/astroconda36/lib/python3.6/site-packages/astropy/stats/sigma_clipping.py:166: RuntimeWarning: invalid value encountered in less\n",
      "  _filtered_data.mask |= _filtered_data < min_value\n"
     ]
    }
   ],
   "source": [
    "#try using background image\n",
    "back_img = Background2D(data, box_size = 50)"
   ]
  },
  {
   "cell_type": "code",
   "execution_count": 8,
   "metadata": {},
   "outputs": [
    {
     "name": "stderr",
     "output_type": "stream",
     "text": [
      "WARNING: Input data contains invalid values (NaNs or infs), which were automatically masked. [astropy.stats.sigma_clipping]\n",
      "/Users/cshanahan/miniconda3/envs/astroconda36/lib/python3.6/site-packages/astropy/stats/sigma_clipping.py:165: RuntimeWarning: invalid value encountered in greater\n",
      "  _filtered_data.mask |= _filtered_data > max_value\n",
      "/Users/cshanahan/miniconda3/envs/astroconda36/lib/python3.6/site-packages/astropy/stats/sigma_clipping.py:166: RuntimeWarning: invalid value encountered in less\n",
      "  _filtered_data.mask |= _filtered_data < min_value\n",
      "/Users/cshanahan/miniconda3/envs/astroconda36/lib/python3.6/site-packages/photutils/segmentation/detect.py:128: RuntimeWarning: invalid value encountered in greater\n",
      "  check_normalization=True) > threshold)\n",
      "WARNING: The \"exact\" method is not yet implemented for rectangular apertures -- using \"subpixel\" method with \"subpixels=32\" [photutils.aperture.core]\n"
     ]
    },
    {
     "name": "stdout",
     "output_type": "stream",
     "text": [
      "Optimal parameters not found: The maximum number of function evaluations is exceeded.\n",
      "`x0` is infeasible.\n"
     ]
    }
   ],
   "source": [
    "threshold_img = detect_threshold(data, snr=2, background=back_img.background)\n",
    "segm, segm_cat, kernel = detect_sources_segm(data, threshold_img, 100, kernel_fwhm = 2.5)\n",
    "\n",
    "bad_sources = filter_bad_sources(ctx, segm_cat['xcentroid'], segm_cat['ycentroid'], 0.98, ndrizim)\n",
    "segm_cat['bad_sources'] = bad_sources\n",
    "segm_cat = segm_cat[segm_cat['bad_sources'] == 1]\n",
    "wcss = WCS(fits.open(test_file)[1].header)\n",
    "\n",
    "#fit fwhm\n",
    "segm_cat = add_fwhm_to_photcat(data, segm_cat)\n",
    "\n",
    "write_source_catalog(segm_cat, test_dir + 'sources_segm.csv', wcss)"
   ]
  },
  {
   "cell_type": "code",
   "execution_count": null,
   "metadata": {},
   "outputs": [],
   "source": [
    "#display\n",
    "os.system('ds9 {} -zscale -catalog import tsv {}sources_segm.csv'.format(test_file, test_dir))"
   ]
  },
  {
   "cell_type": "markdown",
   "metadata": {},
   "source": [
    "## Deblend sources"
   ]
  },
  {
   "cell_type": "code",
   "execution_count": null,
   "metadata": {},
   "outputs": [],
   "source": [
    "segm_deblend = deblend_sources(data, segm, npixels=75, filter_kernel=kernel, nlevels=3, \n",
    "                                   contrast=0.5)\n",
    "segm_deblend_cat = source_properties(data, segm_deblend).to_table()\n",
    "\n",
    "#fit fwhm\n",
    "segm_deblend_cat = add_fwhm_to_photcat(data, segm_deblend_cat)\n",
    "\n",
    "bad_sources = filter_bad_sources(ctx, segm_deblend_cat['xcentroid'], segm_deblend_cat['ycentroid'], 0.98, ndrizim)\n",
    "segm_deblend_cat['bad_sources'] = bad_sources\n",
    "segm_deblend_cat = segm_deblend_cat[segm_deblend_cat['bad_sources'] == 1]\n",
    "\n",
    "segm_deblend_cat = segm_deblend_cat[segm_deblend_cat['fwhm'] > 1.8]\n",
    "write_source_catalog(segm_deblend_cat, test_dir + 'sources_segm_deblended.csv', wcss)\n",
    "\n",
    "print(len(segm_cat), len(segm_deblend_cat))"
   ]
  },
  {
   "cell_type": "code",
   "execution_count": null,
   "metadata": {},
   "outputs": [],
   "source": [
    "#display\n",
    "os.system('ds9 {0} -zscale -catalog import tsv {1}sources_segm_deblended.csv -catalog psky icrs'.format(test_file, test_dir))\n"
   ]
  },
  {
   "cell_type": "code",
   "execution_count": null,
   "metadata": {},
   "outputs": [],
   "source": [
    "\n",
    "write_source_catalog(segm_deblend_cat_fwhm_filtered, test_dir + 'sources_segm_deblended_fwhm.csv', wcss)"
   ]
  },
  {
   "cell_type": "code",
   "execution_count": null,
   "metadata": {},
   "outputs": [],
   "source": [
    "os.system('ds9 {0} -zscale -catalog import tsv {1}sources_segm_deblended_fwhm.csv -catalog psky icrs'.format(test_file, test_dir))\n",
    "-zscale -catalog import tsv sources_segm_deblended_fwhm.csv -catalog psky icrs\n"
   ]
  },
  {
   "cell_type": "markdown",
   "metadata": {},
   "source": [
    "## try lacosmic"
   ]
  },
  {
   "cell_type": "code",
   "execution_count": null,
   "metadata": {},
   "outputs": [],
   "source": [
    "# Build the object :\n",
    "c = cosmics.cosmicsimage(data, gain=1.5, readnoise=3.0, sigclip = 10, sigfrac = 0.4, objlim = 2, verbose=False)\n",
    "# cosmics module is very verbose, if you wish to turn off check out cosmics.py\n",
    "c.run(maxiter=5, verbose=False)\n",
    "print('DONE')\n",
    "\n",
    "cr_mask = c.mask"
   ]
  },
  {
   "cell_type": "markdown",
   "metadata": {},
   "source": [
    "## detect point sources with daofind"
   ]
  },
  {
   "cell_type": "code",
   "execution_count": null,
   "metadata": {},
   "outputs": [],
   "source": [
    "daofind = DAOStarFinder(threshold=10, fwhm=1.8)\n",
    "daofind_sources = daofind(data)\n",
    "\n",
    "bad_sources = filter_bad_sources(ctx, daofind_sources['xcentroid'], daofind_sources['ycentroid'], 0.98, ndrizim, val=False)\n",
    "daofind_sources['bad_sources'] = bad_sources\n",
    "daofind_sources = daofind_sources[daofind_sources['bad_sources'] == 1]\n",
    "\n",
    "with open(test_dir + 'sources_daofind.csv', 'w') as f:\n",
    "    f.write('x, y\\n')\n",
    "    for i, val in enumerate(daofind_sources):\n",
    "        f.write(str(daofind_sources['xcentroid'][i])+', '+str(daofind_sources['ycentroid'][i])+'\\n')\n"
   ]
  },
  {
   "cell_type": "code",
   "execution_count": null,
   "metadata": {},
   "outputs": [],
   "source": [
    "#display\n",
    "os.system('ds9 {0} -zscale -catalog import tsv {1}sources_daofind.csv -catalog psky image'.format(test_file, test_dir))\n"
   ]
  },
  {
   "cell_type": "code",
   "execution_count": null,
   "metadata": {},
   "outputs": [],
   "source": [
    "plt.figure(figsize = (20, 20))\n",
    "z1, z2 = zscale.zscale(data)\n",
    "plt.imshow(data, origin='lower', vmin=z1, vmax=z2)\n",
    "plt.scatter(daofind_sources['xcentroid'], daofind_sources['ycentroid'], facecolor = 'None', edgecolor = 'r')\n",
    "plt.scatter(segm_deblend_cat['xcentroid'], segm_deblend_cat['ycentroid'], facecolor = 'None', edgecolor = 'g', s = 20)"
   ]
  },
  {
   "cell_type": "code",
   "execution_count": null,
   "metadata": {
    "collapsed": true
   },
   "outputs": [],
   "source": []
  },
  {
   "cell_type": "code",
   "execution_count": null,
   "metadata": {
    "collapsed": true
   },
   "outputs": [],
   "source": []
  }
 ],
 "metadata": {
  "kernelspec": {
   "display_name": "Python 3",
   "language": "python",
   "name": "python3"
  },
  "language_info": {
   "codemirror_mode": {
    "name": "ipython",
    "version": 3
   },
   "file_extension": ".py",
   "mimetype": "text/x-python",
   "name": "python",
   "nbconvert_exporter": "python",
   "pygments_lexer": "ipython3",
   "version": "3.6.7"
  }
 },
 "nbformat": 4,
 "nbformat_minor": 2
}
